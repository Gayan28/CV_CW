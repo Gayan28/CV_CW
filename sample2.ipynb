{
 "cells": [
  {
   "cell_type": "code",
   "execution_count": 1,
   "id": "a7ec38ff",
   "metadata": {},
   "outputs": [],
   "source": [
    "# Cell 1: Imports & Setup\n",
    "import os\n",
    "import random\n",
    "import shutil\n",
    "from pathlib import Path\n",
    "import numpy as np\n",
    "import matplotlib.pyplot as plt\n",
    "\n",
    "import tensorflow as tf\n",
    "from tensorflow import keras\n",
    "from tensorflow.keras import layers, models, applications, callbacks\n",
    "from tensorflow.keras.preprocessing.image import ImageDataGenerator\n",
    "\n",
    "from sklearn.utils.class_weight import compute_class_weight\n",
    "from sklearn.metrics import classification_report, confusion_matrix\n",
    "\n",
    "# Set seed\n",
    "SEED = 42\n",
    "random.seed(SEED)\n",
    "np.random.seed(SEED)\n",
    "tf.random.set_seed(SEED)\n"
   ]
  },
  {
   "cell_type": "code",
   "execution_count": 2,
   "id": "53dfbf79",
   "metadata": {},
   "outputs": [
    {
     "name": "stdout",
     "output_type": "stream",
     "text": [
      "Dataset root: E:\\Nibm\\Degree\\4th_Year\\CV\\Individual_CW\\CV_CW\\CV_CW\\PlantVillage\n"
     ]
    }
   ],
   "source": [
    "# Cell 2: Define dataset & working directory\n",
    "WORK_DIR = Path(\"E:/Nibm/Degree/4th_Year/CV/Individual_CW/CV_CW/CV_CW\")  # adjust path for your PC\n",
    "ORIG_DIR = WORK_DIR / \"PlantVillage\"   # The original dataset folder (class subfolders inside)\n",
    "\n",
    "print(\"Dataset root:\", ORIG_DIR)\n"
   ]
  },
  {
   "cell_type": "code",
   "execution_count": 3,
   "id": "a42dec3c",
   "metadata": {},
   "outputs": [
    {
     "name": "stdout",
     "output_type": "stream",
     "text": [
      "Split completed. Counts:\n",
      "train - 14441 images\n",
      "val - 3089 images\n",
      "test - 3109 images\n"
     ]
    }
   ],
   "source": [
    "# Cell 3: Create train/val/test split (70/15/15)\n",
    "SPLIT_DIR = WORK_DIR / \"split\"\n",
    "train_dir = SPLIT_DIR / \"train\"\n",
    "val_dir = SPLIT_DIR / \"val\"\n",
    "test_dir = SPLIT_DIR / \"test\"\n",
    "\n",
    "# Reset split folder\n",
    "if SPLIT_DIR.exists():\n",
    "    shutil.rmtree(SPLIT_DIR)\n",
    "for p in [train_dir, val_dir, test_dir]:\n",
    "    p.mkdir(parents=True, exist_ok=True)\n",
    "\n",
    "split_ratios = (0.7, 0.15, 0.15)\n",
    "\n",
    "for class_dir in ORIG_DIR.iterdir():\n",
    "    if not class_dir.is_dir():\n",
    "        continue\n",
    "    imgs = list(class_dir.glob('*'))\n",
    "    random.shuffle(imgs)\n",
    "    n = len(imgs)\n",
    "    n_train = int(n * split_ratios[0])\n",
    "    n_val = int(n * split_ratios[1])\n",
    "    train_files = imgs[:n_train]\n",
    "    val_files = imgs[n_train:n_train+n_val]\n",
    "    test_files = imgs[n_train+n_val:]\n",
    "\n",
    "    (train_dir / class_dir.name).mkdir(parents=True, exist_ok=True)\n",
    "    (val_dir / class_dir.name).mkdir(parents=True, exist_ok=True)\n",
    "    (test_dir / class_dir.name).mkdir(parents=True, exist_ok=True)\n",
    "\n",
    "    for f in train_files:\n",
    "        shutil.copy(f, train_dir / class_dir.name / f.name)\n",
    "    for f in val_files:\n",
    "        shutil.copy(f, val_dir / class_dir.name / f.name)\n",
    "    for f in test_files:\n",
    "        shutil.copy(f, test_dir / class_dir.name / f.name)\n",
    "\n",
    "print(\"Split completed. Counts:\")\n",
    "for p in [train_dir, val_dir, test_dir]:\n",
    "    count = sum(len(list(c.glob('*'))) for c in p.iterdir())\n",
    "    print(p.name, \"-\", count, \"images\")\n"
   ]
  },
  {
   "cell_type": "code",
   "execution_count": 4,
   "id": "ad2f5baa",
   "metadata": {},
   "outputs": [
    {
     "name": "stdout",
     "output_type": "stream",
     "text": [
      "Found 14440 images belonging to 15 classes.\n",
      "Found 3089 images belonging to 15 classes.\n",
      "Found 3109 images belonging to 15 classes.\n",
      "Classes: {'Pepper__bell___Bacterial_spot': 0, 'Pepper__bell___healthy': 1, 'Potato___Early_blight': 2, 'Potato___Late_blight': 3, 'Potato___healthy': 4, 'Tomato_Bacterial_spot': 5, 'Tomato_Early_blight': 6, 'Tomato_Late_blight': 7, 'Tomato_Leaf_Mold': 8, 'Tomato_Septoria_leaf_spot': 9, 'Tomato_Spider_mites_Two_spotted_spider_mite': 10, 'Tomato__Target_Spot': 11, 'Tomato__Tomato_YellowLeaf__Curl_Virus': 12, 'Tomato__Tomato_mosaic_virus': 13, 'Tomato_healthy': 14}\n"
     ]
    }
   ],
   "source": [
    "# Cell 4: Data generators\n",
    "IMG_SIZE = (224, 224)\n",
    "BATCH_SIZE = 32\n",
    "\n",
    "train_gen = ImageDataGenerator(\n",
    "    rescale=1./255,\n",
    "    rotation_range=20,\n",
    "    width_shift_range=0.1,\n",
    "    height_shift_range=0.1,\n",
    "    shear_range=0.1,\n",
    "    zoom_range=0.1,\n",
    "    horizontal_flip=True,\n",
    "    fill_mode='nearest'\n",
    ")\n",
    "\n",
    "val_gen = ImageDataGenerator(rescale=1./255)\n",
    "test_gen = ImageDataGenerator(rescale=1./255)\n",
    "\n",
    "train_flow = train_gen.flow_from_directory(\n",
    "    train_dir, target_size=IMG_SIZE, batch_size=BATCH_SIZE, class_mode='categorical', seed=SEED\n",
    ")\n",
    "val_flow = val_gen.flow_from_directory(\n",
    "    val_dir, target_size=IMG_SIZE, batch_size=BATCH_SIZE, class_mode='categorical', shuffle=False\n",
    ")\n",
    "test_flow = test_gen.flow_from_directory(\n",
    "    test_dir, target_size=IMG_SIZE, batch_size=BATCH_SIZE, class_mode='categorical', shuffle=False\n",
    ")\n",
    "\n",
    "class_indices = train_flow.class_indices\n",
    "inv_class_indices = {v:k for k,v in class_indices.items()}\n",
    "print(\"Classes:\", class_indices)\n"
   ]
  },
  {
   "cell_type": "code",
   "execution_count": 5,
   "id": "7d782d21",
   "metadata": {},
   "outputs": [
    {
     "name": "stdout",
     "output_type": "stream",
     "text": [
      "Class weights calculated for 15 classes\n"
     ]
    }
   ],
   "source": [
    "# Cell 5: Compute class weights\n",
    "labels = train_flow.classes\n",
    "classes = np.unique(labels)\n",
    "class_weights = compute_class_weight(class_weight='balanced', classes=classes, y=labels)\n",
    "class_weights = {int(i): float(w) for i,w in enumerate(class_weights)}\n",
    "print(\"Class weights calculated for\", len(class_weights), \"classes\")\n"
   ]
  },
  {
   "cell_type": "code",
   "execution_count": 6,
   "id": "bb1c1327",
   "metadata": {},
   "outputs": [
    {
     "data": {
      "text/html": [
       "<pre style=\"white-space:pre;overflow-x:auto;line-height:normal;font-family:Menlo,'DejaVu Sans Mono',consolas,'Courier New',monospace\"><span style=\"font-weight: bold\">Model: \"functional\"</span>\n",
       "</pre>\n"
      ],
      "text/plain": [
       "\u001b[1mModel: \"functional\"\u001b[0m\n"
      ]
     },
     "metadata": {},
     "output_type": "display_data"
    },
    {
     "data": {
      "text/html": [
       "<pre style=\"white-space:pre;overflow-x:auto;line-height:normal;font-family:Menlo,'DejaVu Sans Mono',consolas,'Courier New',monospace\">┏━━━━━━━━━━━━━━━━━━━━━━━━━━━━━━━━━┳━━━━━━━━━━━━━━━━━━━━━━━━┳━━━━━━━━━━━━━━━┓\n",
       "┃<span style=\"font-weight: bold\"> Layer (type)                    </span>┃<span style=\"font-weight: bold\"> Output Shape           </span>┃<span style=\"font-weight: bold\">       Param # </span>┃\n",
       "┡━━━━━━━━━━━━━━━━━━━━━━━━━━━━━━━━━╇━━━━━━━━━━━━━━━━━━━━━━━━╇━━━━━━━━━━━━━━━┩\n",
       "│ input_layer (<span style=\"color: #0087ff; text-decoration-color: #0087ff\">InputLayer</span>)        │ (<span style=\"color: #00d7ff; text-decoration-color: #00d7ff\">None</span>, <span style=\"color: #00af00; text-decoration-color: #00af00\">224</span>, <span style=\"color: #00af00; text-decoration-color: #00af00\">224</span>, <span style=\"color: #00af00; text-decoration-color: #00af00\">3</span>)    │             <span style=\"color: #00af00; text-decoration-color: #00af00\">0</span> │\n",
       "├─────────────────────────────────┼────────────────────────┼───────────────┤\n",
       "│ conv2d (<span style=\"color: #0087ff; text-decoration-color: #0087ff\">Conv2D</span>)                 │ (<span style=\"color: #00d7ff; text-decoration-color: #00d7ff\">None</span>, <span style=\"color: #00af00; text-decoration-color: #00af00\">224</span>, <span style=\"color: #00af00; text-decoration-color: #00af00\">224</span>, <span style=\"color: #00af00; text-decoration-color: #00af00\">32</span>)   │           <span style=\"color: #00af00; text-decoration-color: #00af00\">896</span> │\n",
       "├─────────────────────────────────┼────────────────────────┼───────────────┤\n",
       "│ max_pooling2d (<span style=\"color: #0087ff; text-decoration-color: #0087ff\">MaxPooling2D</span>)    │ (<span style=\"color: #00d7ff; text-decoration-color: #00d7ff\">None</span>, <span style=\"color: #00af00; text-decoration-color: #00af00\">112</span>, <span style=\"color: #00af00; text-decoration-color: #00af00\">112</span>, <span style=\"color: #00af00; text-decoration-color: #00af00\">32</span>)   │             <span style=\"color: #00af00; text-decoration-color: #00af00\">0</span> │\n",
       "├─────────────────────────────────┼────────────────────────┼───────────────┤\n",
       "│ conv2d_1 (<span style=\"color: #0087ff; text-decoration-color: #0087ff\">Conv2D</span>)               │ (<span style=\"color: #00d7ff; text-decoration-color: #00d7ff\">None</span>, <span style=\"color: #00af00; text-decoration-color: #00af00\">112</span>, <span style=\"color: #00af00; text-decoration-color: #00af00\">112</span>, <span style=\"color: #00af00; text-decoration-color: #00af00\">64</span>)   │        <span style=\"color: #00af00; text-decoration-color: #00af00\">18,496</span> │\n",
       "├─────────────────────────────────┼────────────────────────┼───────────────┤\n",
       "│ max_pooling2d_1 (<span style=\"color: #0087ff; text-decoration-color: #0087ff\">MaxPooling2D</span>)  │ (<span style=\"color: #00d7ff; text-decoration-color: #00d7ff\">None</span>, <span style=\"color: #00af00; text-decoration-color: #00af00\">56</span>, <span style=\"color: #00af00; text-decoration-color: #00af00\">56</span>, <span style=\"color: #00af00; text-decoration-color: #00af00\">64</span>)     │             <span style=\"color: #00af00; text-decoration-color: #00af00\">0</span> │\n",
       "├─────────────────────────────────┼────────────────────────┼───────────────┤\n",
       "│ conv2d_2 (<span style=\"color: #0087ff; text-decoration-color: #0087ff\">Conv2D</span>)               │ (<span style=\"color: #00d7ff; text-decoration-color: #00d7ff\">None</span>, <span style=\"color: #00af00; text-decoration-color: #00af00\">56</span>, <span style=\"color: #00af00; text-decoration-color: #00af00\">56</span>, <span style=\"color: #00af00; text-decoration-color: #00af00\">128</span>)    │        <span style=\"color: #00af00; text-decoration-color: #00af00\">73,856</span> │\n",
       "├─────────────────────────────────┼────────────────────────┼───────────────┤\n",
       "│ max_pooling2d_2 (<span style=\"color: #0087ff; text-decoration-color: #0087ff\">MaxPooling2D</span>)  │ (<span style=\"color: #00d7ff; text-decoration-color: #00d7ff\">None</span>, <span style=\"color: #00af00; text-decoration-color: #00af00\">28</span>, <span style=\"color: #00af00; text-decoration-color: #00af00\">28</span>, <span style=\"color: #00af00; text-decoration-color: #00af00\">128</span>)    │             <span style=\"color: #00af00; text-decoration-color: #00af00\">0</span> │\n",
       "├─────────────────────────────────┼────────────────────────┼───────────────┤\n",
       "│ global_average_pooling2d        │ (<span style=\"color: #00d7ff; text-decoration-color: #00d7ff\">None</span>, <span style=\"color: #00af00; text-decoration-color: #00af00\">128</span>)            │             <span style=\"color: #00af00; text-decoration-color: #00af00\">0</span> │\n",
       "│ (<span style=\"color: #0087ff; text-decoration-color: #0087ff\">GlobalAveragePooling2D</span>)        │                        │               │\n",
       "├─────────────────────────────────┼────────────────────────┼───────────────┤\n",
       "│ dense (<span style=\"color: #0087ff; text-decoration-color: #0087ff\">Dense</span>)                   │ (<span style=\"color: #00d7ff; text-decoration-color: #00d7ff\">None</span>, <span style=\"color: #00af00; text-decoration-color: #00af00\">256</span>)            │        <span style=\"color: #00af00; text-decoration-color: #00af00\">33,024</span> │\n",
       "├─────────────────────────────────┼────────────────────────┼───────────────┤\n",
       "│ dropout (<span style=\"color: #0087ff; text-decoration-color: #0087ff\">Dropout</span>)               │ (<span style=\"color: #00d7ff; text-decoration-color: #00d7ff\">None</span>, <span style=\"color: #00af00; text-decoration-color: #00af00\">256</span>)            │             <span style=\"color: #00af00; text-decoration-color: #00af00\">0</span> │\n",
       "├─────────────────────────────────┼────────────────────────┼───────────────┤\n",
       "│ dense_1 (<span style=\"color: #0087ff; text-decoration-color: #0087ff\">Dense</span>)                 │ (<span style=\"color: #00d7ff; text-decoration-color: #00d7ff\">None</span>, <span style=\"color: #00af00; text-decoration-color: #00af00\">15</span>)             │         <span style=\"color: #00af00; text-decoration-color: #00af00\">3,855</span> │\n",
       "└─────────────────────────────────┴────────────────────────┴───────────────┘\n",
       "</pre>\n"
      ],
      "text/plain": [
       "┏━━━━━━━━━━━━━━━━━━━━━━━━━━━━━━━━━┳━━━━━━━━━━━━━━━━━━━━━━━━┳━━━━━━━━━━━━━━━┓\n",
       "┃\u001b[1m \u001b[0m\u001b[1mLayer (type)                   \u001b[0m\u001b[1m \u001b[0m┃\u001b[1m \u001b[0m\u001b[1mOutput Shape          \u001b[0m\u001b[1m \u001b[0m┃\u001b[1m \u001b[0m\u001b[1m      Param #\u001b[0m\u001b[1m \u001b[0m┃\n",
       "┡━━━━━━━━━━━━━━━━━━━━━━━━━━━━━━━━━╇━━━━━━━━━━━━━━━━━━━━━━━━╇━━━━━━━━━━━━━━━┩\n",
       "│ input_layer (\u001b[38;5;33mInputLayer\u001b[0m)        │ (\u001b[38;5;45mNone\u001b[0m, \u001b[38;5;34m224\u001b[0m, \u001b[38;5;34m224\u001b[0m, \u001b[38;5;34m3\u001b[0m)    │             \u001b[38;5;34m0\u001b[0m │\n",
       "├─────────────────────────────────┼────────────────────────┼───────────────┤\n",
       "│ conv2d (\u001b[38;5;33mConv2D\u001b[0m)                 │ (\u001b[38;5;45mNone\u001b[0m, \u001b[38;5;34m224\u001b[0m, \u001b[38;5;34m224\u001b[0m, \u001b[38;5;34m32\u001b[0m)   │           \u001b[38;5;34m896\u001b[0m │\n",
       "├─────────────────────────────────┼────────────────────────┼───────────────┤\n",
       "│ max_pooling2d (\u001b[38;5;33mMaxPooling2D\u001b[0m)    │ (\u001b[38;5;45mNone\u001b[0m, \u001b[38;5;34m112\u001b[0m, \u001b[38;5;34m112\u001b[0m, \u001b[38;5;34m32\u001b[0m)   │             \u001b[38;5;34m0\u001b[0m │\n",
       "├─────────────────────────────────┼────────────────────────┼───────────────┤\n",
       "│ conv2d_1 (\u001b[38;5;33mConv2D\u001b[0m)               │ (\u001b[38;5;45mNone\u001b[0m, \u001b[38;5;34m112\u001b[0m, \u001b[38;5;34m112\u001b[0m, \u001b[38;5;34m64\u001b[0m)   │        \u001b[38;5;34m18,496\u001b[0m │\n",
       "├─────────────────────────────────┼────────────────────────┼───────────────┤\n",
       "│ max_pooling2d_1 (\u001b[38;5;33mMaxPooling2D\u001b[0m)  │ (\u001b[38;5;45mNone\u001b[0m, \u001b[38;5;34m56\u001b[0m, \u001b[38;5;34m56\u001b[0m, \u001b[38;5;34m64\u001b[0m)     │             \u001b[38;5;34m0\u001b[0m │\n",
       "├─────────────────────────────────┼────────────────────────┼───────────────┤\n",
       "│ conv2d_2 (\u001b[38;5;33mConv2D\u001b[0m)               │ (\u001b[38;5;45mNone\u001b[0m, \u001b[38;5;34m56\u001b[0m, \u001b[38;5;34m56\u001b[0m, \u001b[38;5;34m128\u001b[0m)    │        \u001b[38;5;34m73,856\u001b[0m │\n",
       "├─────────────────────────────────┼────────────────────────┼───────────────┤\n",
       "│ max_pooling2d_2 (\u001b[38;5;33mMaxPooling2D\u001b[0m)  │ (\u001b[38;5;45mNone\u001b[0m, \u001b[38;5;34m28\u001b[0m, \u001b[38;5;34m28\u001b[0m, \u001b[38;5;34m128\u001b[0m)    │             \u001b[38;5;34m0\u001b[0m │\n",
       "├─────────────────────────────────┼────────────────────────┼───────────────┤\n",
       "│ global_average_pooling2d        │ (\u001b[38;5;45mNone\u001b[0m, \u001b[38;5;34m128\u001b[0m)            │             \u001b[38;5;34m0\u001b[0m │\n",
       "│ (\u001b[38;5;33mGlobalAveragePooling2D\u001b[0m)        │                        │               │\n",
       "├─────────────────────────────────┼────────────────────────┼───────────────┤\n",
       "│ dense (\u001b[38;5;33mDense\u001b[0m)                   │ (\u001b[38;5;45mNone\u001b[0m, \u001b[38;5;34m256\u001b[0m)            │        \u001b[38;5;34m33,024\u001b[0m │\n",
       "├─────────────────────────────────┼────────────────────────┼───────────────┤\n",
       "│ dropout (\u001b[38;5;33mDropout\u001b[0m)               │ (\u001b[38;5;45mNone\u001b[0m, \u001b[38;5;34m256\u001b[0m)            │             \u001b[38;5;34m0\u001b[0m │\n",
       "├─────────────────────────────────┼────────────────────────┼───────────────┤\n",
       "│ dense_1 (\u001b[38;5;33mDense\u001b[0m)                 │ (\u001b[38;5;45mNone\u001b[0m, \u001b[38;5;34m15\u001b[0m)             │         \u001b[38;5;34m3,855\u001b[0m │\n",
       "└─────────────────────────────────┴────────────────────────┴───────────────┘\n"
      ]
     },
     "metadata": {},
     "output_type": "display_data"
    },
    {
     "data": {
      "text/html": [
       "<pre style=\"white-space:pre;overflow-x:auto;line-height:normal;font-family:Menlo,'DejaVu Sans Mono',consolas,'Courier New',monospace\"><span style=\"font-weight: bold\"> Total params: </span><span style=\"color: #00af00; text-decoration-color: #00af00\">130,127</span> (508.31 KB)\n",
       "</pre>\n"
      ],
      "text/plain": [
       "\u001b[1m Total params: \u001b[0m\u001b[38;5;34m130,127\u001b[0m (508.31 KB)\n"
      ]
     },
     "metadata": {},
     "output_type": "display_data"
    },
    {
     "data": {
      "text/html": [
       "<pre style=\"white-space:pre;overflow-x:auto;line-height:normal;font-family:Menlo,'DejaVu Sans Mono',consolas,'Courier New',monospace\"><span style=\"font-weight: bold\"> Trainable params: </span><span style=\"color: #00af00; text-decoration-color: #00af00\">130,127</span> (508.31 KB)\n",
       "</pre>\n"
      ],
      "text/plain": [
       "\u001b[1m Trainable params: \u001b[0m\u001b[38;5;34m130,127\u001b[0m (508.31 KB)\n"
      ]
     },
     "metadata": {},
     "output_type": "display_data"
    },
    {
     "data": {
      "text/html": [
       "<pre style=\"white-space:pre;overflow-x:auto;line-height:normal;font-family:Menlo,'DejaVu Sans Mono',consolas,'Courier New',monospace\"><span style=\"font-weight: bold\"> Non-trainable params: </span><span style=\"color: #00af00; text-decoration-color: #00af00\">0</span> (0.00 B)\n",
       "</pre>\n"
      ],
      "text/plain": [
       "\u001b[1m Non-trainable params: \u001b[0m\u001b[38;5;34m0\u001b[0m (0.00 B)\n"
      ]
     },
     "metadata": {},
     "output_type": "display_data"
    }
   ],
   "source": [
    "# Cell 6: Build Simple CNN\n",
    "def build_simple_cnn(input_shape=(224,224,3), n_classes=None):\n",
    "    inp = layers.Input(shape=input_shape)\n",
    "    x = layers.Conv2D(32, 3, activation='relu', padding='same')(inp)\n",
    "    x = layers.MaxPool2D(2)(x)\n",
    "    x = layers.Conv2D(64, 3, activation='relu', padding='same')(x)\n",
    "    x = layers.MaxPool2D(2)(x)\n",
    "    x = layers.Conv2D(128, 3, activation='relu', padding='same')(x)\n",
    "    x = layers.MaxPool2D(2)(x)\n",
    "    x = layers.GlobalAveragePooling2D()(x)\n",
    "    x = layers.Dense(256, activation='relu')(x)\n",
    "    x = layers.Dropout(0.5)(x)\n",
    "    out = layers.Dense(n_classes, activation='softmax')(x)\n",
    "    return models.Model(inp, out)\n",
    "\n",
    "num_classes = len(class_indices)\n",
    "cnn_model = build_simple_cnn(n_classes=num_classes)\n",
    "cnn_model.compile(optimizer='adam', loss='categorical_crossentropy', metrics=['accuracy'])\n",
    "cnn_model.summary()\n"
   ]
  },
  {
   "cell_type": "code",
   "execution_count": 7,
   "id": "681c7064",
   "metadata": {},
   "outputs": [
    {
     "data": {
      "text/html": [
       "<pre style=\"white-space:pre;overflow-x:auto;line-height:normal;font-family:Menlo,'DejaVu Sans Mono',consolas,'Courier New',monospace\"><span style=\"font-weight: bold\">Model: \"functional_1\"</span>\n",
       "</pre>\n"
      ],
      "text/plain": [
       "\u001b[1mModel: \"functional_1\"\u001b[0m\n"
      ]
     },
     "metadata": {},
     "output_type": "display_data"
    },
    {
     "data": {
      "text/html": [
       "<pre style=\"white-space:pre;overflow-x:auto;line-height:normal;font-family:Menlo,'DejaVu Sans Mono',consolas,'Courier New',monospace\">┏━━━━━━━━━━━━━━━━━━━━━━━━━━━━━━━━━┳━━━━━━━━━━━━━━━━━━━━━━━━┳━━━━━━━━━━━━━━━┓\n",
       "┃<span style=\"font-weight: bold\"> Layer (type)                    </span>┃<span style=\"font-weight: bold\"> Output Shape           </span>┃<span style=\"font-weight: bold\">       Param # </span>┃\n",
       "┡━━━━━━━━━━━━━━━━━━━━━━━━━━━━━━━━━╇━━━━━━━━━━━━━━━━━━━━━━━━╇━━━━━━━━━━━━━━━┩\n",
       "│ input_layer_2 (<span style=\"color: #0087ff; text-decoration-color: #0087ff\">InputLayer</span>)      │ (<span style=\"color: #00d7ff; text-decoration-color: #00d7ff\">None</span>, <span style=\"color: #00af00; text-decoration-color: #00af00\">224</span>, <span style=\"color: #00af00; text-decoration-color: #00af00\">224</span>, <span style=\"color: #00af00; text-decoration-color: #00af00\">3</span>)    │             <span style=\"color: #00af00; text-decoration-color: #00af00\">0</span> │\n",
       "├─────────────────────────────────┼────────────────────────┼───────────────┤\n",
       "│ mobilenetv2_1.00_224            │ (<span style=\"color: #00d7ff; text-decoration-color: #00d7ff\">None</span>, <span style=\"color: #00af00; text-decoration-color: #00af00\">7</span>, <span style=\"color: #00af00; text-decoration-color: #00af00\">7</span>, <span style=\"color: #00af00; text-decoration-color: #00af00\">1280</span>)     │     <span style=\"color: #00af00; text-decoration-color: #00af00\">2,257,984</span> │\n",
       "│ (<span style=\"color: #0087ff; text-decoration-color: #0087ff\">Functional</span>)                    │                        │               │\n",
       "├─────────────────────────────────┼────────────────────────┼───────────────┤\n",
       "│ global_average_pooling2d_1      │ (<span style=\"color: #00d7ff; text-decoration-color: #00d7ff\">None</span>, <span style=\"color: #00af00; text-decoration-color: #00af00\">1280</span>)           │             <span style=\"color: #00af00; text-decoration-color: #00af00\">0</span> │\n",
       "│ (<span style=\"color: #0087ff; text-decoration-color: #0087ff\">GlobalAveragePooling2D</span>)        │                        │               │\n",
       "├─────────────────────────────────┼────────────────────────┼───────────────┤\n",
       "│ dense_2 (<span style=\"color: #0087ff; text-decoration-color: #0087ff\">Dense</span>)                 │ (<span style=\"color: #00d7ff; text-decoration-color: #00d7ff\">None</span>, <span style=\"color: #00af00; text-decoration-color: #00af00\">256</span>)            │       <span style=\"color: #00af00; text-decoration-color: #00af00\">327,936</span> │\n",
       "├─────────────────────────────────┼────────────────────────┼───────────────┤\n",
       "│ dropout_1 (<span style=\"color: #0087ff; text-decoration-color: #0087ff\">Dropout</span>)             │ (<span style=\"color: #00d7ff; text-decoration-color: #00d7ff\">None</span>, <span style=\"color: #00af00; text-decoration-color: #00af00\">256</span>)            │             <span style=\"color: #00af00; text-decoration-color: #00af00\">0</span> │\n",
       "├─────────────────────────────────┼────────────────────────┼───────────────┤\n",
       "│ dense_3 (<span style=\"color: #0087ff; text-decoration-color: #0087ff\">Dense</span>)                 │ (<span style=\"color: #00d7ff; text-decoration-color: #00d7ff\">None</span>, <span style=\"color: #00af00; text-decoration-color: #00af00\">15</span>)             │         <span style=\"color: #00af00; text-decoration-color: #00af00\">3,855</span> │\n",
       "└─────────────────────────────────┴────────────────────────┴───────────────┘\n",
       "</pre>\n"
      ],
      "text/plain": [
       "┏━━━━━━━━━━━━━━━━━━━━━━━━━━━━━━━━━┳━━━━━━━━━━━━━━━━━━━━━━━━┳━━━━━━━━━━━━━━━┓\n",
       "┃\u001b[1m \u001b[0m\u001b[1mLayer (type)                   \u001b[0m\u001b[1m \u001b[0m┃\u001b[1m \u001b[0m\u001b[1mOutput Shape          \u001b[0m\u001b[1m \u001b[0m┃\u001b[1m \u001b[0m\u001b[1m      Param #\u001b[0m\u001b[1m \u001b[0m┃\n",
       "┡━━━━━━━━━━━━━━━━━━━━━━━━━━━━━━━━━╇━━━━━━━━━━━━━━━━━━━━━━━━╇━━━━━━━━━━━━━━━┩\n",
       "│ input_layer_2 (\u001b[38;5;33mInputLayer\u001b[0m)      │ (\u001b[38;5;45mNone\u001b[0m, \u001b[38;5;34m224\u001b[0m, \u001b[38;5;34m224\u001b[0m, \u001b[38;5;34m3\u001b[0m)    │             \u001b[38;5;34m0\u001b[0m │\n",
       "├─────────────────────────────────┼────────────────────────┼───────────────┤\n",
       "│ mobilenetv2_1.00_224            │ (\u001b[38;5;45mNone\u001b[0m, \u001b[38;5;34m7\u001b[0m, \u001b[38;5;34m7\u001b[0m, \u001b[38;5;34m1280\u001b[0m)     │     \u001b[38;5;34m2,257,984\u001b[0m │\n",
       "│ (\u001b[38;5;33mFunctional\u001b[0m)                    │                        │               │\n",
       "├─────────────────────────────────┼────────────────────────┼───────────────┤\n",
       "│ global_average_pooling2d_1      │ (\u001b[38;5;45mNone\u001b[0m, \u001b[38;5;34m1280\u001b[0m)           │             \u001b[38;5;34m0\u001b[0m │\n",
       "│ (\u001b[38;5;33mGlobalAveragePooling2D\u001b[0m)        │                        │               │\n",
       "├─────────────────────────────────┼────────────────────────┼───────────────┤\n",
       "│ dense_2 (\u001b[38;5;33mDense\u001b[0m)                 │ (\u001b[38;5;45mNone\u001b[0m, \u001b[38;5;34m256\u001b[0m)            │       \u001b[38;5;34m327,936\u001b[0m │\n",
       "├─────────────────────────────────┼────────────────────────┼───────────────┤\n",
       "│ dropout_1 (\u001b[38;5;33mDropout\u001b[0m)             │ (\u001b[38;5;45mNone\u001b[0m, \u001b[38;5;34m256\u001b[0m)            │             \u001b[38;5;34m0\u001b[0m │\n",
       "├─────────────────────────────────┼────────────────────────┼───────────────┤\n",
       "│ dense_3 (\u001b[38;5;33mDense\u001b[0m)                 │ (\u001b[38;5;45mNone\u001b[0m, \u001b[38;5;34m15\u001b[0m)             │         \u001b[38;5;34m3,855\u001b[0m │\n",
       "└─────────────────────────────────┴────────────────────────┴───────────────┘\n"
      ]
     },
     "metadata": {},
     "output_type": "display_data"
    },
    {
     "data": {
      "text/html": [
       "<pre style=\"white-space:pre;overflow-x:auto;line-height:normal;font-family:Menlo,'DejaVu Sans Mono',consolas,'Courier New',monospace\"><span style=\"font-weight: bold\"> Total params: </span><span style=\"color: #00af00; text-decoration-color: #00af00\">2,589,775</span> (9.88 MB)\n",
       "</pre>\n"
      ],
      "text/plain": [
       "\u001b[1m Total params: \u001b[0m\u001b[38;5;34m2,589,775\u001b[0m (9.88 MB)\n"
      ]
     },
     "metadata": {},
     "output_type": "display_data"
    },
    {
     "data": {
      "text/html": [
       "<pre style=\"white-space:pre;overflow-x:auto;line-height:normal;font-family:Menlo,'DejaVu Sans Mono',consolas,'Courier New',monospace\"><span style=\"font-weight: bold\"> Trainable params: </span><span style=\"color: #00af00; text-decoration-color: #00af00\">331,791</span> (1.27 MB)\n",
       "</pre>\n"
      ],
      "text/plain": [
       "\u001b[1m Trainable params: \u001b[0m\u001b[38;5;34m331,791\u001b[0m (1.27 MB)\n"
      ]
     },
     "metadata": {},
     "output_type": "display_data"
    },
    {
     "data": {
      "text/html": [
       "<pre style=\"white-space:pre;overflow-x:auto;line-height:normal;font-family:Menlo,'DejaVu Sans Mono',consolas,'Courier New',monospace\"><span style=\"font-weight: bold\"> Non-trainable params: </span><span style=\"color: #00af00; text-decoration-color: #00af00\">2,257,984</span> (8.61 MB)\n",
       "</pre>\n"
      ],
      "text/plain": [
       "\u001b[1m Non-trainable params: \u001b[0m\u001b[38;5;34m2,257,984\u001b[0m (8.61 MB)\n"
      ]
     },
     "metadata": {},
     "output_type": "display_data"
    }
   ],
   "source": [
    "# Cell 7: Build MobileNetV2\n",
    "def build_mobilenetv2(input_shape=(224,224,3), n_classes=None, train_base=False):\n",
    "    base = applications.MobileNetV2(input_shape=input_shape, include_top=False, weights='imagenet')\n",
    "    base.trainable = train_base\n",
    "    inp = layers.Input(shape=input_shape)\n",
    "    x = base(inp, training=False)\n",
    "    x = layers.GlobalAveragePooling2D()(x)\n",
    "    x = layers.Dense(256, activation='relu')(x)\n",
    "    x = layers.Dropout(0.5)(x)\n",
    "    out = layers.Dense(n_classes, activation='softmax')(x)\n",
    "    return models.Model(inp, out)\n",
    "\n",
    "mobilenet_model = build_mobilenetv2(n_classes=num_classes, train_base=False)\n",
    "mobilenet_model.compile(optimizer=keras.optimizers.Adam(1e-4), loss='categorical_crossentropy', metrics=['accuracy'])\n",
    "mobilenet_model.summary()\n"
   ]
  },
  {
   "cell_type": "code",
   "execution_count": 16,
   "id": "f2efe2bc",
   "metadata": {},
   "outputs": [],
   "source": [
    "# Cell 8: Callbacks\n",
    "checkpoint_dir = WORK_DIR / \"checkpoints\"\n",
    "checkpoint_dir.mkdir(exist_ok=True)\n",
    "cb_list = [\n",
    "    callbacks.ModelCheckpoint(str(checkpoint_dir / \"best_model.h5\"), monitor='val_accuracy', save_best_only=True, verbose=1),\n",
    "    callbacks.ReduceLROnPlateau(monitor='val_loss', factor=0.5, patience=3, min_lr=1e-7)\n",
    "]\n"
   ]
  },
  {
   "cell_type": "code",
   "execution_count": 9,
   "id": "39fea699",
   "metadata": {},
   "outputs": [
    {
     "name": "stderr",
     "output_type": "stream",
     "text": [
      "e:\\anaconda3\\Lib\\site-packages\\keras\\src\\trainers\\data_adapters\\py_dataset_adapter.py:121: UserWarning: Your `PyDataset` class should call `super().__init__(**kwargs)` in its constructor. `**kwargs` can include `workers`, `use_multiprocessing`, `max_queue_size`. Do not pass these arguments to `fit()`, as they will be ignored.\n",
      "  self._warn_if_super_not_called()\n"
     ]
    },
    {
     "name": "stdout",
     "output_type": "stream",
     "text": [
      "Epoch 1/15\n",
      "\u001b[1m452/452\u001b[0m \u001b[32m━━━━━━━━━━━━━━━━━━━━\u001b[0m\u001b[37m\u001b[0m \u001b[1m0s\u001b[0m 554ms/step - accuracy: 0.1289 - loss: 2.6276\n",
      "Epoch 1: val_accuracy improved from None to 0.17999, saving model to E:\\Nibm\\Degree\\4th_Year\\CV\\Individual_CW\\CV_CW\\CV_CW\\checkpoints\\best_model.h5\n"
     ]
    },
    {
     "name": "stderr",
     "output_type": "stream",
     "text": [
      "WARNING:absl:You are saving your model as an HDF5 file via `model.save()` or `keras.saving.save_model(model)`. This file format is considered legacy. We recommend using instead the native Keras format, e.g. `model.save('my_model.keras')` or `keras.saving.save_model(model, 'my_model.keras')`. \n"
     ]
    },
    {
     "name": "stdout",
     "output_type": "stream",
     "text": [
      "\u001b[1m452/452\u001b[0m \u001b[32m━━━━━━━━━━━━━━━━━━━━\u001b[0m\u001b[37m\u001b[0m \u001b[1m265s\u001b[0m 583ms/step - accuracy: 0.2071 - loss: 2.4406 - val_accuracy: 0.1800 - val_loss: 3.5567 - learning_rate: 0.0010\n",
      "Epoch 2/15\n",
      "\u001b[1m452/452\u001b[0m \u001b[32m━━━━━━━━━━━━━━━━━━━━\u001b[0m\u001b[37m\u001b[0m \u001b[1m0s\u001b[0m 1s/step - accuracy: 0.3470 - loss: 1.9898\n",
      "Epoch 2: val_accuracy improved from 0.17999 to 0.43639, saving model to E:\\Nibm\\Degree\\4th_Year\\CV\\Individual_CW\\CV_CW\\CV_CW\\checkpoints\\best_model.h5\n"
     ]
    },
    {
     "name": "stderr",
     "output_type": "stream",
     "text": [
      "WARNING:absl:You are saving your model as an HDF5 file via `model.save()` or `keras.saving.save_model(model)`. This file format is considered legacy. We recommend using instead the native Keras format, e.g. `model.save('my_model.keras')` or `keras.saving.save_model(model, 'my_model.keras')`. \n"
     ]
    },
    {
     "name": "stdout",
     "output_type": "stream",
     "text": [
      "\u001b[1m452/452\u001b[0m \u001b[32m━━━━━━━━━━━━━━━━━━━━\u001b[0m\u001b[37m\u001b[0m \u001b[1m530s\u001b[0m 1s/step - accuracy: 0.3961 - loss: 1.8038 - val_accuracy: 0.4364 - val_loss: 1.8523 - learning_rate: 0.0010\n",
      "Epoch 3/15\n",
      "\u001b[1m452/452\u001b[0m \u001b[32m━━━━━━━━━━━━━━━━━━━━\u001b[0m\u001b[37m\u001b[0m \u001b[1m0s\u001b[0m 639ms/step - accuracy: 0.5068 - loss: 1.4114\n",
      "Epoch 3: val_accuracy did not improve from 0.43639\n",
      "\u001b[1m452/452\u001b[0m \u001b[32m━━━━━━━━━━━━━━━━━━━━\u001b[0m\u001b[37m\u001b[0m \u001b[1m301s\u001b[0m 667ms/step - accuracy: 0.5285 - loss: 1.3500 - val_accuracy: 0.4027 - val_loss: 1.9314 - learning_rate: 0.0010\n",
      "Epoch 4/15\n",
      "\u001b[1m452/452\u001b[0m \u001b[32m━━━━━━━━━━━━━━━━━━━━\u001b[0m\u001b[37m\u001b[0m \u001b[1m0s\u001b[0m 619ms/step - accuracy: 0.5904 - loss: 1.1880\n",
      "Epoch 4: val_accuracy did not improve from 0.43639\n",
      "\u001b[1m452/452\u001b[0m \u001b[32m━━━━━━━━━━━━━━━━━━━━\u001b[0m\u001b[37m\u001b[0m \u001b[1m293s\u001b[0m 648ms/step - accuracy: 0.6087 - loss: 1.1318 - val_accuracy: 0.4293 - val_loss: 2.0668 - learning_rate: 0.0010\n",
      "Epoch 5/15\n",
      "\u001b[1m452/452\u001b[0m \u001b[32m━━━━━━━━━━━━━━━━━━━━\u001b[0m\u001b[37m\u001b[0m \u001b[1m0s\u001b[0m 1s/step - accuracy: 0.6438 - loss: 1.0375\n",
      "Epoch 5: val_accuracy improved from 0.43639 to 0.57494, saving model to E:\\Nibm\\Degree\\4th_Year\\CV\\Individual_CW\\CV_CW\\CV_CW\\checkpoints\\best_model.h5\n"
     ]
    },
    {
     "name": "stderr",
     "output_type": "stream",
     "text": [
      "WARNING:absl:You are saving your model as an HDF5 file via `model.save()` or `keras.saving.save_model(model)`. This file format is considered legacy. We recommend using instead the native Keras format, e.g. `model.save('my_model.keras')` or `keras.saving.save_model(model, 'my_model.keras')`. \n"
     ]
    },
    {
     "name": "stdout",
     "output_type": "stream",
     "text": [
      "\u001b[1m452/452\u001b[0m \u001b[32m━━━━━━━━━━━━━━━━━━━━\u001b[0m\u001b[37m\u001b[0m \u001b[1m649s\u001b[0m 1s/step - accuracy: 0.6625 - loss: 0.9819 - val_accuracy: 0.5749 - val_loss: 1.3323 - learning_rate: 0.0010\n",
      "Epoch 6/15\n",
      "\u001b[1m452/452\u001b[0m \u001b[32m━━━━━━━━━━━━━━━━━━━━\u001b[0m\u001b[37m\u001b[0m \u001b[1m0s\u001b[0m 573ms/step - accuracy: 0.6837 - loss: 0.9149\n",
      "Epoch 6: val_accuracy did not improve from 0.57494\n",
      "\u001b[1m452/452\u001b[0m \u001b[32m━━━━━━━━━━━━━━━━━━━━\u001b[0m\u001b[37m\u001b[0m \u001b[1m273s\u001b[0m 603ms/step - accuracy: 0.6999 - loss: 0.8693 - val_accuracy: 0.5228 - val_loss: 1.9449 - learning_rate: 0.0010\n",
      "Epoch 7/15\n",
      "\u001b[1m452/452\u001b[0m \u001b[32m━━━━━━━━━━━━━━━━━━━━\u001b[0m\u001b[37m\u001b[0m \u001b[1m0s\u001b[0m 584ms/step - accuracy: 0.7176 - loss: 0.8170\n",
      "Epoch 7: val_accuracy improved from 0.57494 to 0.64487, saving model to E:\\Nibm\\Degree\\4th_Year\\CV\\Individual_CW\\CV_CW\\CV_CW\\checkpoints\\best_model.h5\n"
     ]
    },
    {
     "name": "stderr",
     "output_type": "stream",
     "text": [
      "WARNING:absl:You are saving your model as an HDF5 file via `model.save()` or `keras.saving.save_model(model)`. This file format is considered legacy. We recommend using instead the native Keras format, e.g. `model.save('my_model.keras')` or `keras.saving.save_model(model, 'my_model.keras')`. \n"
     ]
    },
    {
     "name": "stdout",
     "output_type": "stream",
     "text": [
      "\u001b[1m452/452\u001b[0m \u001b[32m━━━━━━━━━━━━━━━━━━━━\u001b[0m\u001b[37m\u001b[0m \u001b[1m278s\u001b[0m 614ms/step - accuracy: 0.7307 - loss: 0.7908 - val_accuracy: 0.6449 - val_loss: 1.1987 - learning_rate: 0.0010\n",
      "Epoch 8/15\n",
      "\u001b[1m452/452\u001b[0m \u001b[32m━━━━━━━━━━━━━━━━━━━━\u001b[0m\u001b[37m\u001b[0m \u001b[1m0s\u001b[0m 572ms/step - accuracy: 0.7597 - loss: 0.7033\n",
      "Epoch 8: val_accuracy did not improve from 0.64487\n",
      "\u001b[1m452/452\u001b[0m \u001b[32m━━━━━━━━━━━━━━━━━━━━\u001b[0m\u001b[37m\u001b[0m \u001b[1m317s\u001b[0m 602ms/step - accuracy: 0.7629 - loss: 0.7007 - val_accuracy: 0.5908 - val_loss: 1.5566 - learning_rate: 0.0010\n",
      "Epoch 9/15\n",
      "\u001b[1m452/452\u001b[0m \u001b[32m━━━━━━━━━━━━━━━━━━━━\u001b[0m\u001b[37m\u001b[0m \u001b[1m0s\u001b[0m 588ms/step - accuracy: 0.7628 - loss: 0.6929\n",
      "Epoch 9: val_accuracy improved from 0.64487 to 0.65879, saving model to E:\\Nibm\\Degree\\4th_Year\\CV\\Individual_CW\\CV_CW\\CV_CW\\checkpoints\\best_model.h5\n"
     ]
    },
    {
     "name": "stderr",
     "output_type": "stream",
     "text": [
      "WARNING:absl:You are saving your model as an HDF5 file via `model.save()` or `keras.saving.save_model(model)`. This file format is considered legacy. We recommend using instead the native Keras format, e.g. `model.save('my_model.keras')` or `keras.saving.save_model(model, 'my_model.keras')`. \n"
     ]
    },
    {
     "name": "stdout",
     "output_type": "stream",
     "text": [
      "\u001b[1m452/452\u001b[0m \u001b[32m━━━━━━━━━━━━━━━━━━━━\u001b[0m\u001b[37m\u001b[0m \u001b[1m279s\u001b[0m 617ms/step - accuracy: 0.7738 - loss: 0.6551 - val_accuracy: 0.6588 - val_loss: 1.1438 - learning_rate: 0.0010\n",
      "Epoch 10/15\n",
      "\u001b[1m452/452\u001b[0m \u001b[32m━━━━━━━━━━━━━━━━━━━━\u001b[0m\u001b[37m\u001b[0m \u001b[1m0s\u001b[0m 579ms/step - accuracy: 0.7884 - loss: 0.6236\n",
      "Epoch 10: val_accuracy did not improve from 0.65879\n",
      "\u001b[1m452/452\u001b[0m \u001b[32m━━━━━━━━━━━━━━━━━━━━\u001b[0m\u001b[37m\u001b[0m \u001b[1m274s\u001b[0m 607ms/step - accuracy: 0.7934 - loss: 0.6046 - val_accuracy: 0.5937 - val_loss: 1.2999 - learning_rate: 0.0010\n",
      "Epoch 11/15\n",
      "\u001b[1m452/452\u001b[0m \u001b[32m━━━━━━━━━━━━━━━━━━━━\u001b[0m\u001b[37m\u001b[0m \u001b[1m0s\u001b[0m 575ms/step - accuracy: 0.7949 - loss: 0.5861\n",
      "Epoch 11: val_accuracy did not improve from 0.65879\n",
      "\u001b[1m452/452\u001b[0m \u001b[32m━━━━━━━━━━━━━━━━━━━━\u001b[0m\u001b[37m\u001b[0m \u001b[1m274s\u001b[0m 605ms/step - accuracy: 0.8026 - loss: 0.5670 - val_accuracy: 0.5607 - val_loss: 2.0285 - learning_rate: 0.0010\n",
      "Epoch 12/15\n",
      "\u001b[1m452/452\u001b[0m \u001b[32m━━━━━━━━━━━━━━━━━━━━\u001b[0m\u001b[37m\u001b[0m \u001b[1m0s\u001b[0m 591ms/step - accuracy: 0.8133 - loss: 0.5248\n",
      "Epoch 12: val_accuracy did not improve from 0.65879\n",
      "\u001b[1m452/452\u001b[0m \u001b[32m━━━━━━━━━━━━━━━━━━━━\u001b[0m\u001b[37m\u001b[0m \u001b[1m280s\u001b[0m 619ms/step - accuracy: 0.8171 - loss: 0.5308 - val_accuracy: 0.6267 - val_loss: 1.6299 - learning_rate: 0.0010\n",
      "Epoch 13/15\n",
      "\u001b[1m452/452\u001b[0m \u001b[32m━━━━━━━━━━━━━━━━━━━━\u001b[0m\u001b[37m\u001b[0m \u001b[1m0s\u001b[0m 575ms/step - accuracy: 0.8450 - loss: 0.4461\n",
      "Epoch 13: val_accuracy improved from 0.65879 to 0.84073, saving model to E:\\Nibm\\Degree\\4th_Year\\CV\\Individual_CW\\CV_CW\\CV_CW\\checkpoints\\best_model.h5\n"
     ]
    },
    {
     "name": "stderr",
     "output_type": "stream",
     "text": [
      "WARNING:absl:You are saving your model as an HDF5 file via `model.save()` or `keras.saving.save_model(model)`. This file format is considered legacy. We recommend using instead the native Keras format, e.g. `model.save('my_model.keras')` or `keras.saving.save_model(model, 'my_model.keras')`. \n"
     ]
    },
    {
     "name": "stdout",
     "output_type": "stream",
     "text": [
      "\u001b[1m452/452\u001b[0m \u001b[32m━━━━━━━━━━━━━━━━━━━━\u001b[0m\u001b[37m\u001b[0m \u001b[1m273s\u001b[0m 604ms/step - accuracy: 0.8527 - loss: 0.4232 - val_accuracy: 0.8407 - val_loss: 0.4756 - learning_rate: 5.0000e-04\n",
      "Epoch 14/15\n",
      "\u001b[1m452/452\u001b[0m \u001b[32m━━━━━━━━━━━━━━━━━━━━\u001b[0m\u001b[37m\u001b[0m \u001b[1m0s\u001b[0m 1s/step - accuracy: 0.8643 - loss: 0.3971\n",
      "Epoch 14: val_accuracy did not improve from 0.84073\n",
      "\u001b[1m452/452\u001b[0m \u001b[32m━━━━━━━━━━━━━━━━━━━━\u001b[0m\u001b[37m\u001b[0m \u001b[1m608s\u001b[0m 1s/step - accuracy: 0.8597 - loss: 0.4059 - val_accuracy: 0.7718 - val_loss: 0.7135 - learning_rate: 5.0000e-04\n",
      "Epoch 15/15\n",
      "\u001b[1m452/452\u001b[0m \u001b[32m━━━━━━━━━━━━━━━━━━━━\u001b[0m\u001b[37m\u001b[0m \u001b[1m0s\u001b[0m 565ms/step - accuracy: 0.8617 - loss: 0.4165\n",
      "Epoch 15: val_accuracy did not improve from 0.84073\n",
      "\u001b[1m452/452\u001b[0m \u001b[32m━━━━━━━━━━━━━━━━━━━━\u001b[0m\u001b[37m\u001b[0m \u001b[1m269s\u001b[0m 595ms/step - accuracy: 0.8657 - loss: 0.3939 - val_accuracy: 0.7468 - val_loss: 0.9458 - learning_rate: 5.0000e-04\n"
     ]
    },
    {
     "name": "stderr",
     "output_type": "stream",
     "text": [
      "WARNING:absl:You are saving your model as an HDF5 file via `model.save()` or `keras.saving.save_model(model)`. This file format is considered legacy. We recommend using instead the native Keras format, e.g. `model.save('my_model.keras')` or `keras.saving.save_model(model, 'my_model.keras')`. \n"
     ]
    }
   ],
   "source": [
    "# Cell 9: Train CNN\n",
    "EPOCHS = 15\n",
    "history_cnn = cnn_model.fit(\n",
    "    train_flow,\n",
    "    epochs=EPOCHS,\n",
    "    validation_data=val_flow,\n",
    "    class_weight=class_weights,\n",
    "    callbacks=cb_list\n",
    ")\n",
    "cnn_model.save(WORK_DIR / \"cnn_model.h5\")\n"
   ]
  },
  {
   "cell_type": "code",
   "execution_count": 13,
   "id": "171652b0",
   "metadata": {},
   "outputs": [],
   "source": [
    "cnn_model.save(\"models/model_one.keras\")"
   ]
  },
  {
   "cell_type": "code",
   "execution_count": 17,
   "id": "41a4032e",
   "metadata": {},
   "outputs": [
    {
     "name": "stdout",
     "output_type": "stream",
     "text": [
      "Epoch 1/15\n",
      "\u001b[1m452/452\u001b[0m \u001b[32m━━━━━━━━━━━━━━━━━━━━\u001b[0m\u001b[37m\u001b[0m \u001b[1m0s\u001b[0m 948ms/step - accuracy: 0.6936 - loss: 0.9811\n",
      "Epoch 1: val_accuracy improved from None to 0.78634, saving model to E:\\Nibm\\Degree\\4th_Year\\CV\\Individual_CW\\CV_CW\\CV_CW\\checkpoints\\best_model.h5\n"
     ]
    },
    {
     "name": "stderr",
     "output_type": "stream",
     "text": [
      "WARNING:absl:You are saving your model as an HDF5 file via `model.save()` or `keras.saving.save_model(model)`. This file format is considered legacy. We recommend using instead the native Keras format, e.g. `model.save('my_model.keras')` or `keras.saving.save_model(model, 'my_model.keras')`. \n"
     ]
    },
    {
     "name": "stdout",
     "output_type": "stream",
     "text": [
      "\u001b[1m452/452\u001b[0m \u001b[32m━━━━━━━━━━━━━━━━━━━━\u001b[0m\u001b[37m\u001b[0m \u001b[1m465s\u001b[0m 1s/step - accuracy: 0.6938 - loss: 0.9812 - val_accuracy: 0.7863 - val_loss: 0.8050 - learning_rate: 6.2500e-06\n",
      "Epoch 2/15\n",
      "\u001b[1m452/452\u001b[0m \u001b[32m━━━━━━━━━━━━━━━━━━━━\u001b[0m\u001b[37m\u001b[0m \u001b[1m0s\u001b[0m 2s/step - accuracy: 0.6982 - loss: 0.9419\n",
      "Epoch 2: val_accuracy improved from 0.78634 to 0.79022, saving model to E:\\Nibm\\Degree\\4th_Year\\CV\\Individual_CW\\CV_CW\\CV_CW\\checkpoints\\best_model.h5\n"
     ]
    },
    {
     "name": "stderr",
     "output_type": "stream",
     "text": [
      "WARNING:absl:You are saving your model as an HDF5 file via `model.save()` or `keras.saving.save_model(model)`. This file format is considered legacy. We recommend using instead the native Keras format, e.g. `model.save('my_model.keras')` or `keras.saving.save_model(model, 'my_model.keras')`. \n"
     ]
    },
    {
     "name": "stdout",
     "output_type": "stream",
     "text": [
      "\u001b[1m452/452\u001b[0m \u001b[32m━━━━━━━━━━━━━━━━━━━━\u001b[0m\u001b[37m\u001b[0m \u001b[1m1106s\u001b[0m 2s/step - accuracy: 0.6925 - loss: 0.9539 - val_accuracy: 0.7902 - val_loss: 0.7871 - learning_rate: 6.2500e-06\n",
      "Epoch 3/15\n",
      "\u001b[1m452/452\u001b[0m \u001b[32m━━━━━━━━━━━━━━━━━━━━\u001b[0m\u001b[37m\u001b[0m \u001b[1m0s\u001b[0m 1s/step - accuracy: 0.7038 - loss: 0.9283\n",
      "Epoch 3: val_accuracy improved from 0.79022 to 0.79119, saving model to E:\\Nibm\\Degree\\4th_Year\\CV\\Individual_CW\\CV_CW\\CV_CW\\checkpoints\\best_model.h5\n"
     ]
    },
    {
     "name": "stderr",
     "output_type": "stream",
     "text": [
      "WARNING:absl:You are saving your model as an HDF5 file via `model.save()` or `keras.saving.save_model(model)`. This file format is considered legacy. We recommend using instead the native Keras format, e.g. `model.save('my_model.keras')` or `keras.saving.save_model(model, 'my_model.keras')`. \n"
     ]
    },
    {
     "name": "stdout",
     "output_type": "stream",
     "text": [
      "\u001b[1m452/452\u001b[0m \u001b[32m━━━━━━━━━━━━━━━━━━━━\u001b[0m\u001b[37m\u001b[0m \u001b[1m507s\u001b[0m 1s/step - accuracy: 0.7003 - loss: 0.9414 - val_accuracy: 0.7912 - val_loss: 0.7718 - learning_rate: 6.2500e-06\n",
      "Epoch 4/15\n",
      "\u001b[1m452/452\u001b[0m \u001b[32m━━━━━━━━━━━━━━━━━━━━\u001b[0m\u001b[37m\u001b[0m \u001b[1m0s\u001b[0m 501ms/step - accuracy: 0.7042 - loss: 0.9275\n",
      "Epoch 4: val_accuracy improved from 0.79119 to 0.79314, saving model to E:\\Nibm\\Degree\\4th_Year\\CV\\Individual_CW\\CV_CW\\CV_CW\\checkpoints\\best_model.h5\n"
     ]
    },
    {
     "name": "stderr",
     "output_type": "stream",
     "text": [
      "WARNING:absl:You are saving your model as an HDF5 file via `model.save()` or `keras.saving.save_model(model)`. This file format is considered legacy. We recommend using instead the native Keras format, e.g. `model.save('my_model.keras')` or `keras.saving.save_model(model, 'my_model.keras')`. \n"
     ]
    },
    {
     "name": "stdout",
     "output_type": "stream",
     "text": [
      "\u001b[1m452/452\u001b[0m \u001b[32m━━━━━━━━━━━━━━━━━━━━\u001b[0m\u001b[37m\u001b[0m \u001b[1m260s\u001b[0m 576ms/step - accuracy: 0.7043 - loss: 0.9205 - val_accuracy: 0.7931 - val_loss: 0.7545 - learning_rate: 6.2500e-06\n",
      "Epoch 5/15\n",
      "\u001b[1m452/452\u001b[0m \u001b[32m━━━━━━━━━━━━━━━━━━━━\u001b[0m\u001b[37m\u001b[0m \u001b[1m0s\u001b[0m 477ms/step - accuracy: 0.7126 - loss: 0.9105\n",
      "Epoch 5: val_accuracy improved from 0.79314 to 0.79735, saving model to E:\\Nibm\\Degree\\4th_Year\\CV\\Individual_CW\\CV_CW\\CV_CW\\checkpoints\\best_model.h5\n"
     ]
    },
    {
     "name": "stderr",
     "output_type": "stream",
     "text": [
      "WARNING:absl:You are saving your model as an HDF5 file via `model.save()` or `keras.saving.save_model(model)`. This file format is considered legacy. We recommend using instead the native Keras format, e.g. `model.save('my_model.keras')` or `keras.saving.save_model(model, 'my_model.keras')`. \n"
     ]
    },
    {
     "name": "stdout",
     "output_type": "stream",
     "text": [
      "\u001b[1m452/452\u001b[0m \u001b[32m━━━━━━━━━━━━━━━━━━━━\u001b[0m\u001b[37m\u001b[0m \u001b[1m274s\u001b[0m 607ms/step - accuracy: 0.7154 - loss: 0.8925 - val_accuracy: 0.7973 - val_loss: 0.7378 - learning_rate: 6.2500e-06\n",
      "Epoch 6/15\n",
      "\u001b[1m452/452\u001b[0m \u001b[32m━━━━━━━━━━━━━━━━━━━━\u001b[0m\u001b[37m\u001b[0m \u001b[1m0s\u001b[0m 3s/step - accuracy: 0.7244 - loss: 0.8792\n",
      "Epoch 6: val_accuracy improved from 0.79735 to 0.79767, saving model to E:\\Nibm\\Degree\\4th_Year\\CV\\Individual_CW\\CV_CW\\CV_CW\\checkpoints\\best_model.h5\n"
     ]
    },
    {
     "name": "stderr",
     "output_type": "stream",
     "text": [
      "WARNING:absl:You are saving your model as an HDF5 file via `model.save()` or `keras.saving.save_model(model)`. This file format is considered legacy. We recommend using instead the native Keras format, e.g. `model.save('my_model.keras')` or `keras.saving.save_model(model, 'my_model.keras')`. \n"
     ]
    },
    {
     "name": "stdout",
     "output_type": "stream",
     "text": [
      "\u001b[1m452/452\u001b[0m \u001b[32m━━━━━━━━━━━━━━━━━━━━\u001b[0m\u001b[37m\u001b[0m \u001b[1m1638s\u001b[0m 4s/step - accuracy: 0.7195 - loss: 0.8823 - val_accuracy: 0.7977 - val_loss: 0.7254 - learning_rate: 6.2500e-06\n",
      "Epoch 7/15\n",
      "\u001b[1m452/452\u001b[0m \u001b[32m━━━━━━━━━━━━━━━━━━━━\u001b[0m\u001b[37m\u001b[0m \u001b[1m0s\u001b[0m 3s/step - accuracy: 0.7241 - loss: 0.8499\n",
      "Epoch 7: val_accuracy did not improve from 0.79767\n",
      "\u001b[1m452/452\u001b[0m \u001b[32m━━━━━━━━━━━━━━━━━━━━\u001b[0m\u001b[37m\u001b[0m \u001b[1m1605s\u001b[0m 4s/step - accuracy: 0.7231 - loss: 0.8579 - val_accuracy: 0.7967 - val_loss: 0.7178 - learning_rate: 6.2500e-06\n",
      "Epoch 8/15\n",
      "\u001b[1m452/452\u001b[0m \u001b[32m━━━━━━━━━━━━━━━━━━━━\u001b[0m\u001b[37m\u001b[0m \u001b[1m0s\u001b[0m 3s/step - accuracy: 0.7279 - loss: 0.8421\n",
      "Epoch 8: val_accuracy improved from 0.79767 to 0.80155, saving model to E:\\Nibm\\Degree\\4th_Year\\CV\\Individual_CW\\CV_CW\\CV_CW\\checkpoints\\best_model.h5\n"
     ]
    },
    {
     "name": "stderr",
     "output_type": "stream",
     "text": [
      "WARNING:absl:You are saving your model as an HDF5 file via `model.save()` or `keras.saving.save_model(model)`. This file format is considered legacy. We recommend using instead the native Keras format, e.g. `model.save('my_model.keras')` or `keras.saving.save_model(model, 'my_model.keras')`. \n"
     ]
    },
    {
     "name": "stdout",
     "output_type": "stream",
     "text": [
      "\u001b[1m452/452\u001b[0m \u001b[32m━━━━━━━━━━━━━━━━━━━━\u001b[0m\u001b[37m\u001b[0m \u001b[1m1664s\u001b[0m 4s/step - accuracy: 0.7269 - loss: 0.8529 - val_accuracy: 0.8016 - val_loss: 0.7057 - learning_rate: 6.2500e-06\n",
      "Epoch 9/15\n",
      "\u001b[1m452/452\u001b[0m \u001b[32m━━━━━━━━━━━━━━━━━━━━\u001b[0m\u001b[37m\u001b[0m \u001b[1m0s\u001b[0m 4s/step - accuracy: 0.7273 - loss: 0.8341\n",
      "Epoch 9: val_accuracy improved from 0.80155 to 0.80220, saving model to E:\\Nibm\\Degree\\4th_Year\\CV\\Individual_CW\\CV_CW\\CV_CW\\checkpoints\\best_model.h5\n"
     ]
    },
    {
     "name": "stderr",
     "output_type": "stream",
     "text": [
      "WARNING:absl:You are saving your model as an HDF5 file via `model.save()` or `keras.saving.save_model(model)`. This file format is considered legacy. We recommend using instead the native Keras format, e.g. `model.save('my_model.keras')` or `keras.saving.save_model(model, 'my_model.keras')`. \n"
     ]
    },
    {
     "name": "stdout",
     "output_type": "stream",
     "text": [
      "\u001b[1m452/452\u001b[0m \u001b[32m━━━━━━━━━━━━━━━━━━━━\u001b[0m\u001b[37m\u001b[0m \u001b[1m1821s\u001b[0m 4s/step - accuracy: 0.7294 - loss: 0.8309 - val_accuracy: 0.8022 - val_loss: 0.6924 - learning_rate: 6.2500e-06\n",
      "Epoch 10/15\n",
      "\u001b[1m452/452\u001b[0m \u001b[32m━━━━━━━━━━━━━━━━━━━━\u001b[0m\u001b[37m\u001b[0m \u001b[1m0s\u001b[0m 795ms/step - accuracy: 0.7421 - loss: 0.8228\n",
      "Epoch 10: val_accuracy did not improve from 0.80220\n",
      "\u001b[1m452/452\u001b[0m \u001b[32m━━━━━━━━━━━━━━━━━━━━\u001b[0m\u001b[37m\u001b[0m \u001b[1m397s\u001b[0m 870ms/step - accuracy: 0.7379 - loss: 0.8189 - val_accuracy: 0.8022 - val_loss: 0.6844 - learning_rate: 6.2500e-06\n",
      "Epoch 11/15\n",
      "\u001b[1m452/452\u001b[0m \u001b[32m━━━━━━━━━━━━━━━━━━━━\u001b[0m\u001b[37m\u001b[0m \u001b[1m0s\u001b[0m 489ms/step - accuracy: 0.7389 - loss: 0.8064\n",
      "Epoch 11: val_accuracy improved from 0.80220 to 0.80673, saving model to E:\\Nibm\\Degree\\4th_Year\\CV\\Individual_CW\\CV_CW\\CV_CW\\checkpoints\\best_model.h5\n"
     ]
    },
    {
     "name": "stderr",
     "output_type": "stream",
     "text": [
      "WARNING:absl:You are saving your model as an HDF5 file via `model.save()` or `keras.saving.save_model(model)`. This file format is considered legacy. We recommend using instead the native Keras format, e.g. `model.save('my_model.keras')` or `keras.saving.save_model(model, 'my_model.keras')`. \n"
     ]
    },
    {
     "name": "stdout",
     "output_type": "stream",
     "text": [
      "\u001b[1m452/452\u001b[0m \u001b[32m━━━━━━━━━━━━━━━━━━━━\u001b[0m\u001b[37m\u001b[0m \u001b[1m288s\u001b[0m 638ms/step - accuracy: 0.7408 - loss: 0.8101 - val_accuracy: 0.8067 - val_loss: 0.6704 - learning_rate: 6.2500e-06\n",
      "Epoch 12/15\n",
      "\u001b[1m452/452\u001b[0m \u001b[32m━━━━━━━━━━━━━━━━━━━━\u001b[0m\u001b[37m\u001b[0m \u001b[1m0s\u001b[0m 2s/step - accuracy: 0.7408 - loss: 0.8033\n",
      "Epoch 12: val_accuracy improved from 0.80673 to 0.80932, saving model to E:\\Nibm\\Degree\\4th_Year\\CV\\Individual_CW\\CV_CW\\CV_CW\\checkpoints\\best_model.h5\n"
     ]
    },
    {
     "name": "stderr",
     "output_type": "stream",
     "text": [
      "WARNING:absl:You are saving your model as an HDF5 file via `model.save()` or `keras.saving.save_model(model)`. This file format is considered legacy. We recommend using instead the native Keras format, e.g. `model.save('my_model.keras')` or `keras.saving.save_model(model, 'my_model.keras')`. \n"
     ]
    },
    {
     "name": "stdout",
     "output_type": "stream",
     "text": [
      "\u001b[1m452/452\u001b[0m \u001b[32m━━━━━━━━━━━━━━━━━━━━\u001b[0m\u001b[37m\u001b[0m \u001b[1m832s\u001b[0m 2s/step - accuracy: 0.7392 - loss: 0.8029 - val_accuracy: 0.8093 - val_loss: 0.6604 - learning_rate: 6.2500e-06\n",
      "Epoch 13/15\n",
      "\u001b[1m452/452\u001b[0m \u001b[32m━━━━━━━━━━━━━━━━━━━━\u001b[0m\u001b[37m\u001b[0m \u001b[1m0s\u001b[0m 662ms/step - accuracy: 0.7413 - loss: 0.7937\n",
      "Epoch 13: val_accuracy improved from 0.80932 to 0.80965, saving model to E:\\Nibm\\Degree\\4th_Year\\CV\\Individual_CW\\CV_CW\\CV_CW\\checkpoints\\best_model.h5\n"
     ]
    },
    {
     "name": "stderr",
     "output_type": "stream",
     "text": [
      "WARNING:absl:You are saving your model as an HDF5 file via `model.save()` or `keras.saving.save_model(model)`. This file format is considered legacy. We recommend using instead the native Keras format, e.g. `model.save('my_model.keras')` or `keras.saving.save_model(model, 'my_model.keras')`. \n"
     ]
    },
    {
     "name": "stdout",
     "output_type": "stream",
     "text": [
      "\u001b[1m452/452\u001b[0m \u001b[32m━━━━━━━━━━━━━━━━━━━━\u001b[0m\u001b[37m\u001b[0m \u001b[1m447s\u001b[0m 989ms/step - accuracy: 0.7449 - loss: 0.7896 - val_accuracy: 0.8096 - val_loss: 0.6523 - learning_rate: 6.2500e-06\n",
      "Epoch 14/15\n",
      "\u001b[1m452/452\u001b[0m \u001b[32m━━━━━━━━━━━━━━━━━━━━\u001b[0m\u001b[37m\u001b[0m \u001b[1m0s\u001b[0m 3s/step - accuracy: 0.7552 - loss: 0.7688\n",
      "Epoch 14: val_accuracy improved from 0.80965 to 0.81062, saving model to E:\\Nibm\\Degree\\4th_Year\\CV\\Individual_CW\\CV_CW\\CV_CW\\checkpoints\\best_model.h5\n"
     ]
    },
    {
     "name": "stderr",
     "output_type": "stream",
     "text": [
      "WARNING:absl:You are saving your model as an HDF5 file via `model.save()` or `keras.saving.save_model(model)`. This file format is considered legacy. We recommend using instead the native Keras format, e.g. `model.save('my_model.keras')` or `keras.saving.save_model(model, 'my_model.keras')`. \n"
     ]
    },
    {
     "name": "stdout",
     "output_type": "stream",
     "text": [
      "\u001b[1m452/452\u001b[0m \u001b[32m━━━━━━━━━━━━━━━━━━━━\u001b[0m\u001b[37m\u001b[0m \u001b[1m1344s\u001b[0m 3s/step - accuracy: 0.7546 - loss: 0.7664 - val_accuracy: 0.8106 - val_loss: 0.6502 - learning_rate: 6.2500e-06\n",
      "Epoch 15/15\n",
      "\u001b[1m452/452\u001b[0m \u001b[32m━━━━━━━━━━━━━━━━━━━━\u001b[0m\u001b[37m\u001b[0m \u001b[1m0s\u001b[0m 493ms/step - accuracy: 0.7678 - loss: 0.7619\n",
      "Epoch 15: val_accuracy improved from 0.81062 to 0.81191, saving model to E:\\Nibm\\Degree\\4th_Year\\CV\\Individual_CW\\CV_CW\\CV_CW\\checkpoints\\best_model.h5\n"
     ]
    },
    {
     "name": "stderr",
     "output_type": "stream",
     "text": [
      "WARNING:absl:You are saving your model as an HDF5 file via `model.save()` or `keras.saving.save_model(model)`. This file format is considered legacy. We recommend using instead the native Keras format, e.g. `model.save('my_model.keras')` or `keras.saving.save_model(model, 'my_model.keras')`. \n"
     ]
    },
    {
     "name": "stdout",
     "output_type": "stream",
     "text": [
      "\u001b[1m452/452\u001b[0m \u001b[32m━━━━━━━━━━━━━━━━━━━━\u001b[0m\u001b[37m\u001b[0m \u001b[1m340s\u001b[0m 753ms/step - accuracy: 0.7601 - loss: 0.7587 - val_accuracy: 0.8119 - val_loss: 0.6382 - learning_rate: 6.2500e-06\n"
     ]
    },
    {
     "name": "stderr",
     "output_type": "stream",
     "text": [
      "WARNING:absl:You are saving your model as an HDF5 file via `model.save()` or `keras.saving.save_model(model)`. This file format is considered legacy. We recommend using instead the native Keras format, e.g. `model.save('my_model.keras')` or `keras.saving.save_model(model, 'my_model.keras')`. \n"
     ]
    }
   ],
   "source": [
    "# Cell 10: Train MobileNetV2\n",
    "EPOCHS_MN = 15\n",
    "history_mn = mobilenet_model.fit(\n",
    "    train_flow,\n",
    "    epochs=EPOCHS_MN,\n",
    "    validation_data=val_flow,\n",
    "    class_weight=class_weights,\n",
    "    callbacks=cb_list\n",
    ")\n",
    "mobilenet_model.save(WORK_DIR / \"mobilenetv2_model.h5\")\n"
   ]
  },
  {
   "cell_type": "code",
   "execution_count": 19,
   "id": "18bb1eb5",
   "metadata": {},
   "outputs": [],
   "source": [
    "mobilenet_model.save(\"models/model_two.keras\")"
   ]
  },
  {
   "cell_type": "code",
   "execution_count": 20,
   "id": "c19bc0f7",
   "metadata": {},
   "outputs": [
    {
     "name": "stdout",
     "output_type": "stream",
     "text": [
      "Evaluating CNN:\n"
     ]
    },
    {
     "name": "stderr",
     "output_type": "stream",
     "text": [
      "e:\\anaconda3\\Lib\\site-packages\\keras\\src\\trainers\\data_adapters\\py_dataset_adapter.py:121: UserWarning: Your `PyDataset` class should call `super().__init__(**kwargs)` in its constructor. `**kwargs` can include `workers`, `use_multiprocessing`, `max_queue_size`. Do not pass these arguments to `fit()`, as they will be ignored.\n",
      "  self._warn_if_super_not_called()\n"
     ]
    },
    {
     "name": "stdout",
     "output_type": "stream",
     "text": [
      "\u001b[1m98/98\u001b[0m \u001b[32m━━━━━━━━━━━━━━━━━━━━\u001b[0m\u001b[37m\u001b[0m \u001b[1m88s\u001b[0m 879ms/step\n",
      "\n",
      "=== CNN Classification Report ===\n",
      "                                             precision    recall  f1-score   support\n",
      "\n",
      "              Pepper__bell___Bacterial_spot       0.73      0.97      0.83       151\n",
      "                     Pepper__bell___healthy       0.92      0.95      0.93       223\n",
      "                      Potato___Early_blight       0.82      0.97      0.89       150\n",
      "                       Potato___Late_blight       0.74      0.74      0.74       150\n",
      "                           Potato___healthy       0.46      0.92      0.61        24\n",
      "                      Tomato_Bacterial_spot       0.94      0.91      0.92       320\n",
      "                        Tomato_Early_blight       0.72      0.86      0.78       150\n",
      "                         Tomato_Late_blight       0.94      0.65      0.77       287\n",
      "                           Tomato_Leaf_Mold       0.92      0.92      0.92       144\n",
      "                  Tomato_Septoria_leaf_spot       0.98      0.66      0.78       267\n",
      "Tomato_Spider_mites_Two_spotted_spider_mite       0.78      0.88      0.82       252\n",
      "                        Tomato__Target_Spot       0.76      0.75      0.76       212\n",
      "      Tomato__Tomato_YellowLeaf__Curl_Virus       0.97      0.87      0.91       482\n",
      "                Tomato__Tomato_mosaic_virus       0.90      0.96      0.93        57\n",
      "                             Tomato_healthy       0.80      1.00      0.89       240\n",
      "\n",
      "                                   accuracy                           0.85      3109\n",
      "                                  macro avg       0.82      0.87      0.83      3109\n",
      "                               weighted avg       0.87      0.85      0.85      3109\n",
      "\n",
      "\n",
      "=== CNN Overall Performance ===\n",
      "Accuracy : 0.8508\n",
      "Precision: 0.8669\n",
      "Recall   : 0.8508\n",
      "F1-score : 0.8501\n",
      "\n",
      "Evaluating MobileNetV2:\n",
      "\u001b[1m98/98\u001b[0m \u001b[32m━━━━━━━━━━━━━━━━━━━━\u001b[0m\u001b[37m\u001b[0m \u001b[1m139s\u001b[0m 1s/step\n",
      "\n",
      "=== MobileNetV2 Classification Report ===\n",
      "                                             precision    recall  f1-score   support\n",
      "\n",
      "              Pepper__bell___Bacterial_spot       0.67      0.99      0.80       151\n",
      "                     Pepper__bell___healthy       0.98      0.87      0.92       223\n",
      "                      Potato___Early_blight       0.94      0.92      0.93       150\n",
      "                       Potato___Late_blight       0.89      0.85      0.87       150\n",
      "                           Potato___healthy       0.59      0.96      0.73        24\n",
      "                      Tomato_Bacterial_spot       0.82      0.90      0.86       320\n",
      "                        Tomato_Early_blight       0.49      0.61      0.54       150\n",
      "                         Tomato_Late_blight       0.87      0.76      0.81       287\n",
      "                           Tomato_Leaf_Mold       0.61      0.92      0.73       144\n",
      "                  Tomato_Septoria_leaf_spot       0.82      0.69      0.75       267\n",
      "Tomato_Spider_mites_Two_spotted_spider_mite       0.92      0.71      0.80       252\n",
      "                        Tomato__Target_Spot       0.73      0.62      0.67       212\n",
      "      Tomato__Tomato_YellowLeaf__Curl_Virus       0.98      0.89      0.93       482\n",
      "                Tomato__Tomato_mosaic_virus       0.88      0.51      0.64        57\n",
      "                             Tomato_healthy       0.79      0.94      0.86       240\n",
      "\n",
      "                                   accuracy                           0.82      3109\n",
      "                                  macro avg       0.80      0.81      0.79      3109\n",
      "                               weighted avg       0.84      0.82      0.82      3109\n",
      "\n",
      "\n",
      "=== MobileNetV2 Overall Performance ===\n",
      "Accuracy : 0.8176\n",
      "Precision: 0.8368\n",
      "Recall   : 0.8176\n",
      "F1-score : 0.8192\n"
     ]
    }
   ],
   "source": [
    "# Cell 11: Evaluate Models with explicit metrics\n",
    "from sklearn.metrics import accuracy_score, precision_score, recall_score, f1_score\n",
    "\n",
    "def evaluate_model(model, generator, model_name=\"Model\"):\n",
    "    steps = int(np.ceil(generator.samples / generator.batch_size))\n",
    "    preds = model.predict(generator, steps=steps, verbose=1)\n",
    "    y_true = generator.classes\n",
    "    y_pred = np.argmax(preds, axis=1)\n",
    "\n",
    "    target_names = [inv_class_indices[i] for i in range(num_classes)]\n",
    "\n",
    "    # Classification report\n",
    "    print(f\"\\n=== {model_name} Classification Report ===\")\n",
    "    print(classification_report(y_true, y_pred, target_names=target_names, zero_division=0))\n",
    "\n",
    "    # Explicit metrics\n",
    "    acc = accuracy_score(y_true, y_pred)\n",
    "    prec = precision_score(y_true, y_pred, average='weighted', zero_division=0)\n",
    "    rec = recall_score(y_true, y_pred, average='weighted', zero_division=0)\n",
    "    f1 = f1_score(y_true, y_pred, average='weighted', zero_division=0)\n",
    "\n",
    "    print(f\"\\n=== {model_name} Overall Performance ===\")\n",
    "    print(f\"Accuracy : {acc:.4f}\")\n",
    "    print(f\"Precision: {prec:.4f}\")\n",
    "    print(f\"Recall   : {rec:.4f}\")\n",
    "    print(f\"F1-score : {f1:.4f}\")\n",
    "\n",
    "    cm = confusion_matrix(y_true, y_pred)\n",
    "    return cm, (acc, prec, rec, f1)\n",
    "\n",
    "print(\"Evaluating CNN:\")\n",
    "cm_cnn, metrics_cnn = evaluate_model(cnn_model, test_flow, \"CNN\")\n",
    "\n",
    "print(\"\\nEvaluating MobileNetV2:\")\n",
    "cm_mn, metrics_mn = evaluate_model(mobilenet_model, test_flow, \"MobileNetV2\")\n"
   ]
  },
  {
   "cell_type": "code",
   "execution_count": 21,
   "id": "a7998808",
   "metadata": {},
   "outputs": [
    {
     "data": {
      "image/png": "[encoded data removed]",
      "text/plain": [
       "<Figure size 1600x700 with 4 Axes>"
      ]
     },
     "metadata": {},
     "output_type": "display_data"
    }
   ],
   "source": [
    "# Cell 12: Plot Confusion Matrix for each model\n",
    "import seaborn as sns\n",
    "fig, ax = plt.subplots(1, 2, figsize=(16,7))\n",
    "\n",
    "sns.heatmap(cm_cnn, annot=False, fmt='d', ax=ax[0], cmap=\"Blues\")\n",
    "ax[0].set_title(\"Confusion Matrix - CNN\")\n",
    "ax[0].set_ylabel(\"True\")\n",
    "ax[0].set_xlabel(\"Pred\")\n",
    "\n",
    "sns.heatmap(cm_mn, annot=False, fmt='d', ax=ax[1], cmap=\"Greens\")\n",
    "ax[1].set_title(\"Confusion Matrix - MobileNetV2\")\n",
    "ax[1].set_ylabel(\"True\")\n",
    "ax[1].set_xlabel(\"Pred\")\n",
    "\n",
    "plt.show()\n"
   ]
  },
  {
   "cell_type": "code",
   "execution_count": 24,
   "id": "2d72940f",
   "metadata": {},
   "outputs": [
    {
     "name": "stdout",
     "output_type": "stream",
     "text": [
      "Models & label map saved to: E:\\Nibm\\Degree\\4th_Year\\CV\\Individual_CW\\CV_CW\\CV_CW\n",
      "CNN Metrics (Acc, Prec, Rec, F1): (0.85075587005468, 0.8668574187504898, 0.85075587005468, 0.8500934200414016)\n",
      "MobileNetV2 Metrics (Acc, Prec, Rec, F1): (0.8176262463814732, 0.8368421830637375, 0.8176262463814732, 0.8192111396998796)\n"
     ]
    }
   ],
   "source": [
    "# Cell 13: Save models and label map\n",
    "import json\n",
    "with open(WORK_DIR / \"label_map.json\", \"w\") as f:\n",
    "    json.dump(inv_class_indices, f)\n",
    "\n",
    "# cnn_model.save(WORK_DIR / \"cnn_model.h5\")\n",
    "# mobilenet_model.save(WORK_DIR / \"mobilenetv2_model.h5\")\n",
    "# mobilenet_model.save(WORK_DIR / \"mobilenet_savedmodel\", save_format=\"tf\")\n",
    "# cnn_model.save(WORK_DIR / \"cnn_savedmodel\", save_format=\"tf\")\n",
    "\n",
    "print(\"Models & label map saved to:\", WORK_DIR)\n",
    "print(\"CNN Metrics (Acc, Prec, Rec, F1):\", metrics_cnn)\n",
    "print(\"MobileNetV2 Metrics (Acc, Prec, Rec, F1):\", metrics_mn)\n"
   ]
  },
  {
   "cell_type": "code",
   "execution_count": 26,
   "id": "6489cb4d",
   "metadata": {},
   "outputs": [
    {
     "name": "stdout",
     "output_type": "stream",
     "text": [
      "\u001b[1m1/1\u001b[0m \u001b[32m━━━━━━━━━━━━━━━━━━━━\u001b[0m\u001b[37m\u001b[0m \u001b[1m1s\u001b[0m 1s/step\n",
      "Predicted: Pepper__bell___Bacterial_spot Confidence: 0.9248100519180298\n"
     ]
    }
   ],
   "source": [
    "# Cell 14: Single Image Prediction (for app deployment)\n",
    "from tensorflow.keras.preprocessing import image\n",
    "\n",
    "def predict_image(model, img_path, target_size=IMG_SIZE):\n",
    "    img = image.load_img(img_path, target_size=target_size)\n",
    "    arr = image.img_to_array(img) / 255.0\n",
    "    arr = np.expand_dims(arr, axis=0)\n",
    "    probs = model.predict(arr)[0]\n",
    "    top_idx = np.argmax(probs)\n",
    "    return inv_class_indices[top_idx], float(probs[top_idx]), probs\n",
    "\n",
    "# Example usage:\n",
    "test_img = list(test_dir.rglob(\"*.jpg\"))[0]\n",
    "label, confidence, all_probs = predict_image(mobilenet_model, test_img)\n",
    "print(\"Predicted:\", label, \"Confidence:\", confidence)\n"
   ]
  }
 ],
 "metadata": {
  "kernelspec": {
   "display_name": "base",
   "language": "python",
   "name": "python3"
  },
  "language_info": {
   "codemirror_mode": {
    "name": "ipython",
    "version": 3
   },
   "file_extension": ".py",
   "mimetype": "text/x-python",
   "name": "python",
   "nbconvert_exporter": "python",
   "pygments_lexer": "ipython3",
   "version": "3.12.7"
  }
 },
 "nbformat": 4,
 "nbformat_minor": 5
}
